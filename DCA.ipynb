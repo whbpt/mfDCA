{
  "nbformat": 4,
  "nbformat_minor": 0,
  "metadata": {
    "colab": {
      "name": "DCA.ipynb",
      "version": "0.3.2",
      "provenance": [],
      "collapsed_sections": [],
      "toc_visible": true,
      "include_colab_link": true
    },
    "kernelspec": {
      "name": "python3",
      "display_name": "Python 3"
    }
  },
  "cells": [
    {
      "cell_type": "markdown",
      "metadata": {
        "id": "view-in-github",
        "colab_type": "text"
      },
      "source": [
        "<a href=\"https://colab.research.google.com/github/whbpt/mfDCA/blob/master/DCA.ipynb\" target=\"_parent\"><img src=\"https://colab.research.google.com/assets/colab-badge.svg\" alt=\"Open In Colab\"/></a>"
      ]
    },
    {
      "metadata": {
        "id": "rcj5iOaPOYNP",
        "colab_type": "code",
        "colab": {}
      },
      "cell_type": "code",
      "source": [
        "# ------------------------------------------------------------\n",
        "# Copyright for colab implementation: \n",
        "# \"THE APPLE CIDER LICENSE\" (Revision 42):\n",
        "# <haobowang@fas.harvard.edu> reimplement this code.\n",
        "# As long as you retain this notice, you can do whatever you want\n",
        "# with this stuff. If we meet someday, and you think this stuff\n",
        "# is worth it, you can buy us an APPLE CIDER in return.\n",
        "# --Haobo Wang\n",
        "# ------------------------------------------------------------\n",
        "#\n",
        "# Any publication resulting from applications of DCA should cite:\n",
        "#\n",
        "#     F Morcos, A Pagnani, B Lunt, A Bertolino, DS Marks, C Sander, \n",
        "#     R Zecchina, JN Onuchic, T Hwa, M Weigt (2011), Direct-coupling\n",
        "#     analysis of residue co-evolution captures native contacts across \n",
        "#     many protein families, Proc. Natl. Acad. Sci. 108:E1293-1301.l"
      ],
      "execution_count": 0,
      "outputs": []
    },
    {
      "metadata": {
        "id": "YO_gDSK4cN3N",
        "colab_type": "text"
      },
      "cell_type": "markdown",
      "source": [
        "## libraries"
      ]
    },
    {
      "metadata": {
        "id": "pslKOAdPcM6N",
        "colab_type": "code",
        "colab": {}
      },
      "cell_type": "code",
      "source": [
        "# IMPORTANT, only tested using PYTHON 3!\n",
        "import numpy as np\n",
        "import matplotlib.pylab as plt\n",
        "from scipy import stats\n",
        "import pandas as pd"
      ],
      "execution_count": 0,
      "outputs": []
    },
    {
      "metadata": {
        "id": "VGu9nIiHcWVH",
        "colab_type": "text"
      },
      "cell_type": "markdown",
      "source": [
        "## Params"
      ]
    },
    {
      "metadata": {
        "id": "75zoBJxTcVKY",
        "colab_type": "code",
        "colab": {}
      },
      "cell_type": "code",
      "source": [
        "################\n",
        "# note: if you are modifying the alphabet\n",
        "# make sure last character is \"-\" (gap)\n",
        "################\n",
        "alphabet = \"ARNDCQEGHILKMFPSTWYV-\"\n",
        "#alphabet ='-ACDEFGHIKLMNPQRSTVWY'\n",
        "states = len(alphabet)\n",
        "a2n = {}\n",
        "for a,n in zip(alphabet,range(states)):\n",
        "  a2n[a] = n\n",
        "################\n",
        "\n",
        "def aa2num(aa):\n",
        "  '''convert aa into num'''\n",
        "  if aa in a2n: return a2n[aa]\n",
        "  else: return a2n['-']\n",
        "       "
      ],
      "execution_count": 0,
      "outputs": []
    },
    {
      "metadata": {
        "id": "OZlsf1iccZ8Y",
        "colab_type": "text"
      },
      "cell_type": "markdown",
      "source": [
        "## Functions"
      ]
    },
    {
      "metadata": {
        "id": "nIHOWTAxbzkI",
        "colab_type": "code",
        "colab": {}
      },
      "cell_type": "code",
      "source": [
        "# from fasta\n",
        "def parse_fasta(filename,limit=-1):\n",
        "  '''function to parse fasta'''\n",
        "  header = []\n",
        "  sequence = []\n",
        "  lines = open(filename, \"r\")\n",
        "  for line in lines:\n",
        "    line = line.rstrip()\n",
        "    if line[0] == \">\":\n",
        "      if len(header) == limit:\n",
        "        break\n",
        "      header.append(line[1:])\n",
        "      sequence.append([])\n",
        "    else:\n",
        "      sequence[-1].append(line)\n",
        "  lines.close()\n",
        "  sequence = [''.join(seq) for seq in sequence]\n",
        "  return np.array(header), np.array(sequence)\n",
        "  \n",
        "def mk_msa(seqs):\n",
        "  '''converts list of sequences to numpy array'''\n",
        "  msa = []\n",
        "  for seq in seqs:\n",
        "    msa.append([aa2num(aa) for aa in seq])\n",
        "  return np.array(msa)\n",
        "\n",
        "def filt_gaps(msa,gap_cutoff=0.5):\n",
        "  '''filters alignment to remove gappy positions'''\n",
        "  tmp = np.zeros_like(msa)\n",
        "  tmp[np.where(msa == 20)] = 1\n",
        "  non_gaps = np.where(np.sum(tmp.T,-1).T/msa.shape[0] < gap_cutoff)[0]\n",
        "  return msa[:,non_gaps],non_gaps\n",
        "\n",
        "def get_eff(msa,eff_cutoff=0.8):\n",
        "  '''compute effective weight for each sequence'''\n",
        "  ncol = msa.shape[1]\n",
        "  # pairwise identity\n",
        "  msa_sm = (msa[:,None,:]==msa).sum(2)/ncol\n",
        "\n",
        "  # weight for each sequence\n",
        "  msa_w = np.zeros_like(msa_sm)\n",
        "  msa_w[np.where(msa_sm >= eff_cutoff)] = 1\n",
        "  msa_w = 1/np.sum(msa_w,-1)\n",
        "  \n",
        "  return msa_w\n",
        "\n",
        "###################\n",
        "def normalize(x):\n",
        "  x = stats.boxcox(x - np.amin(x) + 1.0)[0]\n",
        "  x_mean = np.mean(x)\n",
        "  x_std = np.std(x)\n",
        "  return((x-x_mean)/x_std)"
      ],
      "execution_count": 0,
      "outputs": []
    },
    {
      "metadata": {
        "id": "rT46aJs_iLnU",
        "colab_type": "code",
        "outputId": "6b91eb2e-48b4-43bd-dfda-a2bfeb66f0bf",
        "colab": {
          "base_uri": "https://localhost:8080/",
          "height": 202
        }
      },
      "cell_type": "code",
      "source": [
        "# download example fasta MSA\n",
        "!wget https://gremlin2.bakerlab.org/db/PDB/fasta/2khk_A.fas"
      ],
      "execution_count": 0,
      "outputs": [
        {
          "output_type": "stream",
          "text": [
            "--2018-12-29 00:30:55--  https://gremlin2.bakerlab.org/db/PDB/fasta/2khk_A.fas\n",
            "Resolving gremlin2.bakerlab.org (gremlin2.bakerlab.org)... 128.95.160.155\n",
            "Connecting to gremlin2.bakerlab.org (gremlin2.bakerlab.org)|128.95.160.155|:443... connected.\n",
            "HTTP request sent, awaiting response... 200 OK\n",
            "Length: 158585 (155K)\n",
            "Saving to: ‘2khk_A.fas’\n",
            "\n",
            "2khk_A.fas          100%[===================>] 154.87K  --.-KB/s    in 0.02s   \n",
            "\n",
            "2018-12-29 00:31:00 (6.25 MB/s) - ‘2khk_A.fas’ saved [158585/158585]\n",
            "\n"
          ],
          "name": "stdout"
        }
      ]
    },
    {
      "metadata": {
        "id": "SQFOjiN4dTHl",
        "colab_type": "code",
        "colab": {}
      },
      "cell_type": "code",
      "source": [
        "# parse fasta\n",
        "names, seqs = parse_fasta(\"2khk_A.fas\")\n",
        "\n",
        "# convert seqs to array\n",
        "msa = mk_msa(seqs)\n",
        "\n",
        "# remove positions with more than > 50% gaps\n",
        "msa, msa_idx = filt_gaps(msa,0.5)\n",
        "\n",
        "# compute effective weight for each sequence\n",
        "msa_eff = get_eff(msa,0.8)\n",
        "\n",
        "# compute effective number of sequences\n",
        "neff = np.sum(msa_eff)\n",
        "\n",
        "# store shape of msa\n",
        "nrow = msa.shape[0] # num rows (sequences)\n",
        "ncol = msa.shape[1] # num cols (positions)\n"
      ],
      "execution_count": 0,
      "outputs": []
    },
    {
      "metadata": {
        "id": "SbbT9LGQlLyQ",
        "colab_type": "code",
        "colab": {}
      },
      "cell_type": "code",
      "source": [
        "from scipy.spatial.distance import *\n",
        "\n",
        "def Compute_True_Frequencies(align,M,N,q,theta,):\n",
        "    # computes reweighted frequency counts\n",
        "    \n",
        "    W=np.ones(M,dtype=np.float64)\n",
        "    if (theta > 0.0):\n",
        "        W=(1.0 / (1 + sum(squareform(pdist(align,'hamm') < theta))))\n",
        "    Meff=sum(W)\n",
        "    Pij_true=np.zeros((N,N,q,q),dtype=np.float64)\n",
        "    Pi_true=np.zeros((N,q),dtype=np.float64)\n",
        "    for j in range(M):\n",
        "        for i in range(N):\n",
        "            Pi_true[i,align[j,i]]=Pi_true[i,align[j,i]] + W[j]\n",
        "    \n",
        "    Pi_true=Pi_true / Meff\n",
        "    for l in range(M):\n",
        "        for i in range(N):\n",
        "            for j in range(i+1,N):\n",
        "                Pij_true[i,j,align[l,i],align[l,j]] = Pij_true[i,j,align[l,i],align[l,j]] + W[l]\n",
        "                Pij_true[j,i,align[l,j],align[l,i]] = Pij_true[i,j,align[l,i],align[l,j]]\n",
        "    Pij_true = Pij_true/Meff;\n",
        "    scra=np.eye(q,q)\n",
        "    for i in range(N):\n",
        "        for alpha in range(q):\n",
        "            for beta in range(q):\n",
        "                Pij_true[i,i,alpha,beta]=np.dot(Pi_true[i,alpha],scra[alpha,beta])\n",
        "    \n",
        "    return Pij_true,Pi_true,Meff"
      ],
      "execution_count": 0,
      "outputs": []
    },
    {
      "metadata": {
        "id": "l4y94tv6cc9X",
        "colab_type": "text"
      },
      "cell_type": "markdown",
      "source": [
        "## DCA"
      ]
    },
    {
      "metadata": {
        "id": "LFqC-wTV-yYk",
        "colab_type": "code",
        "colab": {}
      },
      "cell_type": "code",
      "source": [
        "def log_0(pssm):\n",
        "  p_log = np.log(pssm)\n",
        "  p_log[p_log == -np.inf] = 0\n",
        "  p_log[p_log == np.inf] = 0\n",
        "  p_log[p_log == -np.nan] = 0\n",
        "  return(p_log)"
      ],
      "execution_count": 0,
      "outputs": []
    },
    {
      "metadata": {
        "id": "ejeEZ3WXbe80",
        "colab_type": "code",
        "colab": {}
      },
      "cell_type": "code",
      "source": [
        "def dca(msa):\n",
        "  msa = msa # align\n",
        "  states=21   #q\n",
        "  ncol = msa.shape[1] #N\n",
        "  nrow = msa.shape[0] #M\n",
        "  \n",
        "  psedo_weight=0.5\n",
        "  psedo_weight_i = psedo_weight / states\n",
        "  psedo_weight_ij = psedo_weight / states / states \n",
        "  \n",
        "  theta=0.2\n",
        "  \n",
        "  pair_pssm,pssm, Meff=Compute_True_Frequencies(msa,nrow,ncol,states,theta)\n",
        "  \n",
        "  #pssm = Pi_true\n",
        "  #pair_pssm = Pij_true\n",
        "  \n",
        "  Pi = (1.0 - psedo_weight) * pssm + psedo_weight_i * np.ones((ncol,states))  \n",
        "  \n",
        "  Pij = (1.0 - psedo_weight) * pair_pssm + psedo_weight_ij * np.ones((ncol,ncol,states,states)) \n",
        "  for i in range(ncol):\n",
        "    Pij[i,i,:,:] = (1.0 - psedo_weight) * pair_pssm[i,i,:,:] + psedo_weight_i * np.eye(states)\n",
        "    \n",
        "  C = Pij - Pi[:,None,:,None] * Pi[None,:,None,:]\n",
        "  C = C[:,:,0:states-1,0:states-1]\n",
        "  C = C.transpose([0,2,1,3])\n",
        "  C = np.reshape(C,(ncol*(states-1),ncol*(states-1)))\n",
        "  invC = np.linalg.inv(C)\n",
        "\n",
        "  H = -np.sum(pssm * log_0(pssm),1)\n",
        "  MI_true = H[None,:]+ H[:,None] + np.sum(pair_pssm * log_0(pair_pssm),(2,3))\n",
        "  \n",
        "  W_mf = np.ones((ncol,states,ncol,states))\n",
        "  W_mf[:,0:(states-1),:,0:(states-1)] = np.exp(-invC.reshape(ncol,(states-1),ncol,(states-1)))\n",
        "  W_mf = np.transpose(W_mf,[0,2,1,3])\n",
        "  \n",
        "  DI = np.zeros((ncol,ncol))\n",
        "  epsilon = 1e-4\n",
        "  tiny = 1e-100\n",
        "  for i in range(ncol-1):\n",
        "    for j in range(i+1,ncol):\n",
        "      diff = 1.0\n",
        "      mui = np.ones(states) / states\n",
        "      muj = np.ones(states) / states\n",
        "      \n",
        "      pi = Pi[i,:]\n",
        "      pj = Pi[j,:]\n",
        "      \n",
        "      while (diff>epsilon):  \n",
        "        \n",
        "        newi = pi / np.dot(muj, W_mf[i,j,:,:].T)\n",
        "        newi = newi / sum(newi)\n",
        "        \n",
        "        newj = pj / np.dot(mui, W_mf[i,j,:,:])\n",
        "        newj = newj / sum(newj)\n",
        "        \n",
        "        diff = max(max(abs(newi - mui)),max(abs(newj - muj)))\n",
        "        \n",
        "        mui = np.copy(newi)\n",
        "        muj = np.copy(newj) \n",
        "        \n",
        "      Pdir = W_mf[i,j,:,:] * (np.tensordot(mui,muj,0))            \n",
        "      Pdir = Pdir / sum(sum(Pdir))\n",
        "      \n",
        "      Pfac = np.tensordot(Pi[i,:].T,Pi[j,:],0)\n",
        "      logpp = np.log((Pdir+tiny) / (Pfac+tiny))\n",
        "      DI[i,j] = np.trace(np.dot(Pdir.T,logpp))\n",
        "  \n",
        "  return MI_true,DI\n"
      ],
      "execution_count": 0,
      "outputs": []
    },
    {
      "metadata": {
        "id": "F9Ty9XIDIwp_",
        "colab_type": "code",
        "outputId": "053d3f31-353f-4fd5-f3df-a8a91f932011",
        "colab": {
          "base_uri": "https://localhost:8080/",
          "height": 50
        }
      },
      "cell_type": "code",
      "source": [
        "MI_true,DI = dca(msa)"
      ],
      "execution_count": 0,
      "outputs": [
        {
          "output_type": "stream",
          "text": [
            "/usr/local/lib/python3.6/dist-packages/ipykernel_launcher.py:2: RuntimeWarning: divide by zero encountered in log\n",
            "  \n"
          ],
          "name": "stderr"
        }
      ]
    },
    {
      "metadata": {
        "id": "wSML0XKp1mQQ",
        "colab_type": "code",
        "outputId": "32fe1f1e-e09d-4c56-85f5-e4676dcfb202",
        "colab": {
          "base_uri": "https://localhost:8080/",
          "height": 348
        }
      },
      "cell_type": "code",
      "source": [
        "plt.imshow(DI+DI.T)\n",
        "plt.grid(False)"
      ],
      "execution_count": 0,
      "outputs": [
        {
          "output_type": "display_data",
          "data": {
            "image/png": "[encoded data removed]",
            "text/plain": [
              "<matplotlib.figure.Figure at 0x7fa0f4ad85c0>"
            ]
          },
          "metadata": {
            "tags": []
          }
        }
      ]
    }
  ]
}